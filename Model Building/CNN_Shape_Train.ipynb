{
 "cells": [
  {
   "cell_type": "markdown",
   "metadata": {},
   "source": [
    "# Importing the libraries "
   ]
  },
  {
   "cell_type": "code",
   "execution_count": 1,
   "metadata": {},
   "outputs": [],
   "source": [
    "import pandas as pd\n",
    "import numpy as np"
   ]
  },
  {
   "cell_type": "code",
   "execution_count": 2,
   "metadata": {},
   "outputs": [],
   "source": [
    "from tensorflow.keras.models import Sequential\n",
    "from tensorflow.keras.layers import Dense, Convolution2D, MaxPooling2D, Flatten, Dropout"
   ]
  },
  {
   "cell_type": "code",
   "execution_count": 3,
   "metadata": {},
   "outputs": [],
   "source": [
    "from tensorflow.keras.preprocessing .image import ImageDataGenerator"
   ]
  },
  {
   "cell_type": "markdown",
   "metadata": {},
   "source": [
    "# Image Data Agumentation"
   ]
  },
  {
   "cell_type": "code",
   "execution_count": 4,
   "metadata": {},
   "outputs": [],
   "source": [
    "train_datagen = ImageDataGenerator(rescale = 1./255, shear_range = 0.2, zoom_range = 0.2, horizontal_flip = True)\n",
    "test_datagen = ImageDataGenerator(rescale = 1./255)"
   ]
  },
  {
   "cell_type": "markdown",
   "metadata": {},
   "source": [
    "# Loading the data and performing data agumentation# "
   ]
  },
  {
   "cell_type": "code",
   "execution_count": 5,
   "metadata": {},
   "outputs": [
    {
     "name": "stdout",
     "output_type": "stream",
     "text": [
      "Found 10941 images belonging to 3 classes.\n",
      "Found 300 images belonging to 3 classes.\n"
     ]
    }
   ],
   "source": [
    "x_train = train_datagen.flow_from_directory(r\"D:\\Smart Mathematics Tutor\\Dataset\\train\",target_size = (64,64),batch_size = 32,class_mode = \"categorical\")\n",
    "x_test = test_datagen.flow_from_directory(r\"D:\\Smart Mathematics Tutor\\Dataset\\test\",target_size = (64,64),batch_size = 32,class_mode = \"categorical\")"
   ]
  },
  {
   "cell_type": "code",
   "execution_count": null,
   "metadata": {},
   "outputs": [],
   "source": [
    "x_train.class_indices"
   ]
  },
  {
   "cell_type": "markdown",
   "metadata": {},
   "source": [
    "# Building the Model"
   ]
  },
  {
   "cell_type": "code",
   "execution_count": 7,
   "metadata": {},
   "outputs": [],
   "source": [
    "model = Sequential()"
   ]
  },
  {
   "cell_type": "code",
   "execution_count": 8,
   "metadata": {},
   "outputs": [],
   "source": [
    "model.add(Convolution2D(32,(3,3),input_shape = (64,64,3)))"
   ]
  },
  {
   "cell_type": "code",
   "execution_count": 9,
   "metadata": {},
   "outputs": [],
   "source": [
    "model.add(MaxPooling2D((2,2)))"
   ]
  },
  {
   "cell_type": "code",
   "execution_count": 10,
   "metadata": {},
   "outputs": [],
   "source": [
    "model.add(Flatten())"
   ]
  },
  {
   "cell_type": "code",
   "execution_count": 11,
   "metadata": {},
   "outputs": [],
   "source": [
    "model.add(Dense(units = 128, kernel_initializer= \"random_uniform\",activation = \"relu\"))"
   ]
  },
  {
   "cell_type": "code",
   "execution_count": 12,
   "metadata": {},
   "outputs": [],
   "source": [
    "model.add(Dense(units = 3 , kernel_initializer= \"random_uniform\",activation = \"softmax\"))"
   ]
  },
  {
   "cell_type": "markdown",
   "metadata": {},
   "source": [
    "# Compiling the model"
   ]
  },
  {
   "cell_type": "code",
   "execution_count": 13,
   "metadata": {},
   "outputs": [],
   "source": [
    "model.compile(optimizer= \"adam\",loss = \"categorical_crossentropy\" , metrics =[\"accuracy\"])"
   ]
  },
  {
   "cell_type": "markdown",
   "metadata": {},
   "source": [
    "# Fitting the model"
   ]
  },
  {
   "cell_type": "code",
   "execution_count": 14,
   "metadata": {},
   "outputs": [
    {
     "name": "stderr",
     "output_type": "stream",
     "text": [
      "C:\\Users\\DEEPTI\\Anaconda3\\lib\\site-packages\\tensorflow\\python\\keras\\engine\\training.py:1940: UserWarning: `Model.fit_generator` is deprecated and will be removed in a future version. Please use `Model.fit`, which supports generators.\n",
      "  warnings.warn('`Model.fit_generator` is deprecated and '\n"
     ]
    },
    {
     "name": "stdout",
     "output_type": "stream",
     "text": [
      "Epoch 1/100\n",
      "342/342 [==============================] - 134s 390ms/step - loss: 0.3042 - accuracy: 0.8858 - val_loss: 0.0065 - val_accuracy: 1.0000\n",
      "Epoch 2/100\n",
      "342/342 [==============================] - 59s 172ms/step - loss: 0.0323 - accuracy: 0.9927 - val_loss: 4.3409e-04 - val_accuracy: 1.0000\n",
      "Epoch 3/100\n",
      "342/342 [==============================] - 62s 181ms/step - loss: 0.0047 - accuracy: 0.9989 - val_loss: 2.2693e-04 - val_accuracy: 1.0000\n",
      "Epoch 4/100\n",
      "342/342 [==============================] - 59s 174ms/step - loss: 0.0049 - accuracy: 0.9986 - val_loss: 2.6845e-05 - val_accuracy: 1.0000\n",
      "Epoch 5/100\n",
      "342/342 [==============================] - 59s 173ms/step - loss: 0.0029 - accuracy: 0.9993 - val_loss: 4.8564e-05 - val_accuracy: 1.0000\n",
      "Epoch 6/100\n",
      "342/342 [==============================] - 62s 181ms/step - loss: 0.0033 - accuracy: 0.9989 - val_loss: 9.0021e-06 - val_accuracy: 1.0000\n",
      "Epoch 7/100\n",
      "342/342 [==============================] - 58s 169ms/step - loss: 0.0016 - accuracy: 0.9995 - val_loss: 1.7457e-05 - val_accuracy: 1.0000\n",
      "Epoch 8/100\n",
      "342/342 [==============================] - 62s 181ms/step - loss: 0.0021 - accuracy: 0.9995 - val_loss: 1.1552e-05 - val_accuracy: 1.0000\n",
      "Epoch 9/100\n",
      "342/342 [==============================] - 58s 168ms/step - loss: 2.9158e-04 - accuracy: 1.0000 - val_loss: 6.7035e-07 - val_accuracy: 1.0000\n",
      "Epoch 10/100\n",
      "342/342 [==============================] - 59s 172ms/step - loss: 1.1870e-04 - accuracy: 1.0000 - val_loss: 1.0109e-06 - val_accuracy: 1.0000\n",
      "Epoch 11/100\n",
      "342/342 [==============================] - 62s 181ms/step - loss: 0.0035 - accuracy: 0.9992 - val_loss: 2.8999e-06 - val_accuracy: 1.0000\n",
      "Epoch 12/100\n",
      "342/342 [==============================] - 65s 190ms/step - loss: 0.0048 - accuracy: 0.9987 - val_loss: 0.0046 - val_accuracy: 1.0000\n",
      "Epoch 13/100\n",
      "342/342 [==============================] - 63s 184ms/step - loss: 0.0084 - accuracy: 0.9973 - val_loss: 2.0941e-07 - val_accuracy: 1.0000\n",
      "Epoch 14/100\n",
      "342/342 [==============================] - 62s 181ms/step - loss: 1.5346e-04 - accuracy: 1.0000 - val_loss: 2.6504e-07 - val_accuracy: 1.0000\n",
      "Epoch 15/100\n",
      "342/342 [==============================] - 61s 180ms/step - loss: 3.6088e-05 - accuracy: 1.0000 - val_loss: 5.3644e-08 - val_accuracy: 1.0000\n",
      "Epoch 16/100\n",
      "342/342 [==============================] - 62s 180ms/step - loss: 0.0048 - accuracy: 0.9984 - val_loss: 3.3895e-07 - val_accuracy: 1.0000\n",
      "Epoch 17/100\n",
      "342/342 [==============================] - 62s 181ms/step - loss: 0.0036 - accuracy: 0.9991 - val_loss: 2.2750e-05 - val_accuracy: 1.0000\n",
      "Epoch 18/100\n",
      "342/342 [==============================] - 60s 175ms/step - loss: 9.1417e-05 - accuracy: 1.0000 - val_loss: 7.1473e-06 - val_accuracy: 1.0000\n",
      "Epoch 19/100\n",
      "342/342 [==============================] - 58s 168ms/step - loss: 3.4936e-05 - accuracy: 1.0000 - val_loss: 5.2765e-06 - val_accuracy: 1.0000\n",
      "Epoch 20/100\n",
      "342/342 [==============================] - 61s 178ms/step - loss: 4.2939e-05 - accuracy: 1.0000 - val_loss: 9.3716e-06 - val_accuracy: 1.0000\n",
      "Epoch 21/100\n",
      "342/342 [==============================] - 60s 176ms/step - loss: 2.5151e-05 - accuracy: 1.0000 - val_loss: 2.4565e-06 - val_accuracy: 1.0000\n",
      "Epoch 22/100\n",
      "342/342 [==============================] - 63s 183ms/step - loss: 1.7325e-05 - accuracy: 1.0000 - val_loss: 1.4488e-06 - val_accuracy: 1.0000\n",
      "Epoch 23/100\n",
      "342/342 [==============================] - 59s 174ms/step - loss: 0.0250 - accuracy: 0.9949 - val_loss: 4.2121e-08 - val_accuracy: 1.0000\n",
      "Epoch 24/100\n",
      "342/342 [==============================] - 64s 186ms/step - loss: 8.7371e-04 - accuracy: 0.9995 - val_loss: 0.0000e+00 - val_accuracy: 1.0000\n",
      "Epoch 25/100\n",
      "342/342 [==============================] - 61s 177ms/step - loss: 1.5601e-04 - accuracy: 0.9999 - val_loss: 6.3578e-09 - val_accuracy: 1.0000\n",
      "Epoch 26/100\n",
      "342/342 [==============================] - 63s 184ms/step - loss: 1.9283e-04 - accuracy: 0.9999 - val_loss: 0.0000e+00 - val_accuracy: 1.0000\n",
      "Epoch 27/100\n",
      "342/342 [==============================] - 66s 194ms/step - loss: 0.0015 - accuracy: 0.9997 - val_loss: 2.5193e-07 - val_accuracy: 1.0000\n",
      "Epoch 28/100\n",
      "342/342 [==============================] - 61s 177ms/step - loss: 8.2972e-06 - accuracy: 1.0000 - val_loss: 2.0504e-07 - val_accuracy: 1.0000\n",
      "Epoch 29/100\n",
      "342/342 [==============================] - 57s 165ms/step - loss: 2.0270e-05 - accuracy: 1.0000 - val_loss: 8.1857e-08 - val_accuracy: 1.0000\n",
      "Epoch 30/100\n",
      "342/342 [==============================] - 57s 167ms/step - loss: 1.0063e-05 - accuracy: 1.0000 - val_loss: 8.8612e-08 - val_accuracy: 1.0000\n",
      "Epoch 31/100\n",
      "342/342 [==============================] - 58s 168ms/step - loss: 4.7955e-05 - accuracy: 1.0000 - val_loss: 1.2438e-07 - val_accuracy: 1.0000\n",
      "Epoch 32/100\n",
      "342/342 [==============================] - 57s 166ms/step - loss: 7.3184e-04 - accuracy: 0.9998 - val_loss: 4.7286e-08 - val_accuracy: 1.0000\n",
      "Epoch 33/100\n",
      "342/342 [==============================] - 61s 178ms/step - loss: 1.7000e-05 - accuracy: 1.0000 - val_loss: 4.9671e-08 - val_accuracy: 1.0000\n",
      "Epoch 34/100\n",
      "342/342 [==============================] - 64s 188ms/step - loss: 4.4026e-04 - accuracy: 0.9998 - val_loss: 0.0000e+00 - val_accuracy: 1.0000\n",
      "Epoch 35/100\n",
      "342/342 [==============================] - 56s 163ms/step - loss: 0.0025 - accuracy: 0.9994 - val_loss: 6.3224e-06 - val_accuracy: 1.0000\n",
      "Epoch 36/100\n",
      "342/342 [==============================] - 57s 165ms/step - loss: 0.0197 - accuracy: 0.9952 - val_loss: 0.0000e+00 - val_accuracy: 1.0000\n",
      "Epoch 37/100\n",
      "342/342 [==============================] - 57s 165ms/step - loss: 1.7618e-06 - accuracy: 1.0000 - val_loss: 0.0000e+00 - val_accuracy: 1.0000\n",
      "Epoch 38/100\n",
      "342/342 [==============================] - 57s 168ms/step - loss: 3.2615e-06 - accuracy: 1.0000 - val_loss: 0.0000e+00 - val_accuracy: 1.0000\n",
      "Epoch 39/100\n",
      "342/342 [==============================] - 56s 165ms/step - loss: 1.4570e-06 - accuracy: 1.0000 - val_loss: 0.0000e+00 - val_accuracy: 1.0000\n",
      "Epoch 40/100\n",
      "342/342 [==============================] - 57s 166ms/step - loss: 1.8257e-06 - accuracy: 1.0000 - val_loss: 0.0000e+00 - val_accuracy: 1.0000\n",
      "Epoch 41/100\n",
      "342/342 [==============================] - 57s 166ms/step - loss: 0.0052 - accuracy: 0.9992 - val_loss: 0.0000e+00 - val_accuracy: 1.0000\n",
      "Epoch 42/100\n",
      "342/342 [==============================] - 59s 173ms/step - loss: 0.0119 - accuracy: 0.9972 - val_loss: 0.0000e+00 - val_accuracy: 1.0000\n",
      "Epoch 43/100\n",
      "342/342 [==============================] - 58s 169ms/step - loss: 3.6677e-04 - accuracy: 0.9999 - val_loss: 0.0000e+00 - val_accuracy: 1.0000\n",
      "Epoch 44/100\n",
      "342/342 [==============================] - 64s 186ms/step - loss: 9.7924e-05 - accuracy: 0.9999 - val_loss: 0.0000e+00 - val_accuracy: 1.0000\n",
      "Epoch 45/100\n",
      "342/342 [==============================] - 61s 179ms/step - loss: 1.0482e-06 - accuracy: 1.0000 - val_loss: 0.0000e+00 - val_accuracy: 1.0000\n",
      "Epoch 46/100\n",
      "342/342 [==============================] - 57s 166ms/step - loss: 5.0240e-06 - accuracy: 1.0000 - val_loss: 0.0000e+00 - val_accuracy: 1.0000\n",
      "Epoch 47/100\n",
      "342/342 [==============================] - 60s 175ms/step - loss: 1.4803e-06 - accuracy: 1.0000 - val_loss: 0.0000e+00 - val_accuracy: 1.0000\n",
      "Epoch 48/100\n",
      "342/342 [==============================] - 58s 171ms/step - loss: 1.0018e-05 - accuracy: 1.0000 - val_loss: 0.0000e+00 - val_accuracy: 1.0000\n",
      "Epoch 49/100\n",
      "342/342 [==============================] - 62s 180ms/step - loss: 1.9178e-06 - accuracy: 1.0000 - val_loss: 0.0000e+00 - val_accuracy: 1.0000\n",
      "Epoch 50/100\n",
      "342/342 [==============================] - 59s 171ms/step - loss: 7.3246e-07 - accuracy: 1.0000 - val_loss: 0.0000e+00 - val_accuracy: 1.0000\n",
      "Epoch 51/100\n",
      "342/342 [==============================] - 61s 178ms/step - loss: 2.2146e-07 - accuracy: 1.0000 - val_loss: 0.0000e+00 - val_accuracy: 1.0000\n",
      "Epoch 52/100\n",
      "342/342 [==============================] - 62s 182ms/step - loss: 1.3424e-07 - accuracy: 1.0000 - val_loss: 0.0000e+00 - val_accuracy: 1.0000\n",
      "Epoch 53/100\n",
      "342/342 [==============================] - 59s 173ms/step - loss: 1.2449e-06 - accuracy: 1.0000 - val_loss: 0.0000e+00 - val_accuracy: 1.0000\n",
      "Epoch 54/100\n",
      "342/342 [==============================] - 62s 180ms/step - loss: 7.5678e-07 - accuracy: 1.0000 - val_loss: 0.0000e+00 - val_accuracy: 1.0000\n",
      "Epoch 55/100\n",
      "342/342 [==============================] - 60s 176ms/step - loss: 1.1398e-06 - accuracy: 1.0000 - val_loss: 0.0000e+00 - val_accuracy: 1.0000\n",
      "Epoch 56/100\n",
      "342/342 [==============================] - 57s 166ms/step - loss: 1.5112e-06 - accuracy: 1.0000 - val_loss: 0.0000e+00 - val_accuracy: 1.0000\n",
      "Epoch 57/100\n",
      "342/342 [==============================] - 57s 168ms/step - loss: 5.8170e-06 - accuracy: 1.0000 - val_loss: 0.0000e+00 - val_accuracy: 1.0000\n",
      "Epoch 58/100\n",
      "342/342 [==============================] - 58s 169ms/step - loss: 3.8395e-07 - accuracy: 1.0000 - val_loss: 0.0000e+00 - val_accuracy: 1.0000\n",
      "Epoch 59/100\n",
      "342/342 [==============================] - 59s 171ms/step - loss: 0.0484 - accuracy: 0.9958 - val_loss: 0.0000e+00 - val_accuracy: 1.0000\n",
      "Epoch 60/100\n",
      "342/342 [==============================] - 57s 166ms/step - loss: 1.1776e-06 - accuracy: 1.0000 - val_loss: 0.0000e+00 - val_accuracy: 1.0000\n",
      "Epoch 61/100\n",
      "342/342 [==============================] - 56s 165ms/step - loss: 2.6993e-05 - accuracy: 1.0000 - val_loss: 0.0000e+00 - val_accuracy: 1.0000\n",
      "Epoch 62/100\n",
      "342/342 [==============================] - 57s 168ms/step - loss: 1.4075e-06 - accuracy: 1.0000 - val_loss: 0.0000e+00 - val_accuracy: 1.0000\n",
      "Epoch 63/100\n",
      "342/342 [==============================] - 57s 165ms/step - loss: 2.2081e-07 - accuracy: 1.0000 - val_loss: 0.0000e+00 - val_accuracy: 1.0000\n",
      "Epoch 64/100\n",
      "342/342 [==============================] - 56s 163ms/step - loss: 0.0027 - accuracy: 0.9995 - val_loss: 0.0000e+00 - val_accuracy: 1.0000\n",
      "Epoch 65/100\n",
      "342/342 [==============================] - 56s 163ms/step - loss: 0.0053 - accuracy: 0.9989 - val_loss: 0.0000e+00 - val_accuracy: 1.0000\n",
      "Epoch 66/100\n",
      "342/342 [==============================] - 55s 162ms/step - loss: 3.6293e-04 - accuracy: 0.9997 - val_loss: 0.0000e+00 - val_accuracy: 1.0000\n",
      "Epoch 67/100\n",
      "342/342 [==============================] - 56s 164ms/step - loss: 5.6230e-04 - accuracy: 0.9997 - val_loss: 0.0000e+00 - val_accuracy: 1.0000\n",
      "Epoch 68/100\n",
      "342/342 [==============================] - 57s 168ms/step - loss: 8.0098e-05 - accuracy: 1.0000 - val_loss: 0.0000e+00 - val_accuracy: 1.0000\n",
      "Epoch 69/100\n",
      "342/342 [==============================] - 57s 166ms/step - loss: 1.8946e-05 - accuracy: 1.0000 - val_loss: 0.0000e+00 - val_accuracy: 1.0000\n",
      "Epoch 70/100\n",
      "342/342 [==============================] - 56s 164ms/step - loss: 0.0018 - accuracy: 0.9997 - val_loss: 0.0000e+00 - val_accuracy: 1.0000\n",
      "Epoch 71/100\n",
      "342/342 [==============================] - 56s 164ms/step - loss: 0.0186 - accuracy: 0.9974 - val_loss: 0.0000e+00 - val_accuracy: 1.0000\n",
      "Epoch 72/100\n",
      "342/342 [==============================] - 56s 164ms/step - loss: 6.0207e-05 - accuracy: 1.0000 - val_loss: 0.0000e+00 - val_accuracy: 1.0000\n",
      "Epoch 73/100\n",
      "342/342 [==============================] - 56s 164ms/step - loss: 3.6271e-05 - accuracy: 1.0000 - val_loss: 0.0000e+00 - val_accuracy: 1.0000\n",
      "Epoch 74/100\n",
      "342/342 [==============================] - 56s 164ms/step - loss: 3.5507e-04 - accuracy: 0.9999 - val_loss: 0.0000e+00 - val_accuracy: 1.0000\n",
      "Epoch 75/100\n",
      "342/342 [==============================] - 56s 164ms/step - loss: 2.9829e-06 - accuracy: 1.0000 - val_loss: 0.0000e+00 - val_accuracy: 1.0000\n",
      "Epoch 76/100\n",
      "342/342 [==============================] - 57s 165ms/step - loss: 1.1500e-06 - accuracy: 1.0000 - val_loss: 0.0000e+00 - val_accuracy: 1.0000\n",
      "Epoch 77/100\n",
      "342/342 [==============================] - 57s 168ms/step - loss: 2.9745e-09 - accuracy: 1.0000 - val_loss: 0.0000e+00 - val_accuracy: 1.0000\n",
      "Epoch 78/100\n",
      "342/342 [==============================] - 57s 168ms/step - loss: 4.8921e-08 - accuracy: 1.0000 - val_loss: 0.0000e+00 - val_accuracy: 1.0000\n",
      "Epoch 79/100\n",
      "342/342 [==============================] - 62s 182ms/step - loss: 5.5458e-09 - accuracy: 1.0000 - val_loss: 0.0000e+00 - val_accuracy: 1.0000\n",
      "Epoch 80/100\n",
      "342/342 [==============================] - 57s 166ms/step - loss: 4.0022e-08 - accuracy: 1.0000 - val_loss: 0.0000e+00 - val_accuracy: 1.0000\n",
      "Epoch 81/100\n",
      "342/342 [==============================] - 60s 175ms/step - loss: 3.1689e-06 - accuracy: 1.0000 - val_loss: 0.0000e+00 - val_accuracy: 1.0000\n",
      "Epoch 82/100\n",
      "342/342 [==============================] - 59s 171ms/step - loss: 4.5256e-07 - accuracy: 1.0000 - val_loss: 0.0000e+00 - val_accuracy: 1.0000\n",
      "Epoch 83/100\n",
      "342/342 [==============================] - 58s 170ms/step - loss: 1.4148e-06 - accuracy: 1.0000 - val_loss: 0.0000e+00 - val_accuracy: 1.0000\n",
      "Epoch 84/100\n",
      "342/342 [==============================] - 59s 173ms/step - loss: 8.2904e-08 - accuracy: 1.0000 - val_loss: 0.0000e+00 - val_accuracy: 1.0000\n",
      "Epoch 85/100\n",
      "342/342 [==============================] - 57s 165ms/step - loss: 0.0069 - accuracy: 0.9989 - val_loss: 0.0000e+00 - val_accuracy: 1.0000\n",
      "Epoch 86/100\n",
      "342/342 [==============================] - 60s 177ms/step - loss: 0.0048 - accuracy: 0.9989 - val_loss: 0.0000e+00 - val_accuracy: 1.0000\n",
      "Epoch 87/100\n",
      "342/342 [==============================] - 58s 168ms/step - loss: 9.8324e-04 - accuracy: 0.9997 - val_loss: 0.0000e+00 - val_accuracy: 1.0000\n",
      "Epoch 88/100\n",
      "342/342 [==============================] - 58s 170ms/step - loss: 2.8465e-05 - accuracy: 1.0000 - val_loss: 0.0000e+00 - val_accuracy: 1.0000\n",
      "Epoch 89/100\n",
      "342/342 [==============================] - 61s 177ms/step - loss: 5.7637e-09 - accuracy: 1.0000 - val_loss: 0.0000e+00 - val_accuracy: 1.0000\n",
      "Epoch 90/100\n",
      "342/342 [==============================] - 63s 183ms/step - loss: 3.4392e-07 - accuracy: 1.0000 - val_loss: 0.0000e+00 - val_accuracy: 1.0000\n",
      "Epoch 91/100\n",
      "342/342 [==============================] - 61s 178ms/step - loss: 1.1113e-08 - accuracy: 1.0000 - val_loss: 0.0000e+00 - val_accuracy: 1.0000\n",
      "Epoch 92/100\n",
      "342/342 [==============================] - 62s 181ms/step - loss: 1.7170e-08 - accuracy: 1.0000 - val_loss: 0.0000e+00 - val_accuracy: 1.0000\n",
      "Epoch 93/100\n",
      "342/342 [==============================] - 63s 183ms/step - loss: 0.0159 - accuracy: 0.9979 - val_loss: 0.0000e+00 - val_accuracy: 1.0000\n",
      "Epoch 94/100\n",
      "342/342 [==============================] - 62s 181ms/step - loss: 9.8531e-06 - accuracy: 1.0000 - val_loss: 0.0000e+00 - val_accuracy: 1.0000\n",
      "Epoch 95/100\n",
      "342/342 [==============================] - 57s 166ms/step - loss: 3.1706e-09 - accuracy: 1.0000 - val_loss: 0.0000e+00 - val_accuracy: 1.0000\n",
      "Epoch 96/100\n",
      "342/342 [==============================] - 56s 164ms/step - loss: 1.2846e-08 - accuracy: 1.0000 - val_loss: 0.0000e+00 - val_accuracy: 1.0000\n",
      "Epoch 97/100\n",
      "342/342 [==============================] - 57s 166ms/step - loss: 0.0034 - accuracy: 0.9994 - val_loss: 0.0000e+00 - val_accuracy: 1.0000\n",
      "Epoch 98/100\n",
      "342/342 [==============================] - 58s 169ms/step - loss: 4.5167e-05 - accuracy: 1.0000 - val_loss: 0.0000e+00 - val_accuracy: 1.0000\n",
      "Epoch 99/100\n",
      "342/342 [==============================] - 60s 174ms/step - loss: 0.0061 - accuracy: 0.9995 - val_loss: 0.0000e+00 - val_accuracy: 1.0000\n",
      "Epoch 100/100\n",
      "342/342 [==============================] - 70s 205ms/step - loss: 0.0102 - accuracy: 0.9986 - val_loss: 0.0000e+00 - val_accuracy: 1.0000\n"
     ]
    },
    {
     "data": {
      "text/plain": [
       "<tensorflow.python.keras.callbacks.History at 0x283f67df5f8>"
      ]
     },
     "execution_count": 14,
     "metadata": {},
     "output_type": "execute_result"
    }
   ],
   "source": [
    "model.fit_generator(x_train,steps_per_epoch = 342 , epochs = 100 , validation_data = x_test,validation_steps = 10)"
   ]
  },
  {
   "cell_type": "code",
   "execution_count": 15,
   "metadata": {},
   "outputs": [
    {
     "name": "stdout",
     "output_type": "stream",
     "text": [
      "Model: \"sequential\"\n",
      "_________________________________________________________________\n",
      "Layer (type)                 Output Shape              Param #   \n",
      "=================================================================\n",
      "conv2d (Conv2D)              (None, 62, 62, 32)        896       \n",
      "_________________________________________________________________\n",
      "max_pooling2d (MaxPooling2D) (None, 31, 31, 32)        0         \n",
      "_________________________________________________________________\n",
      "flatten (Flatten)            (None, 30752)             0         \n",
      "_________________________________________________________________\n",
      "dense (Dense)                (None, 128)               3936384   \n",
      "_________________________________________________________________\n",
      "dense_1 (Dense)              (None, 3)                 387       \n",
      "=================================================================\n",
      "Total params: 3,937,667\n",
      "Trainable params: 3,937,667\n",
      "Non-trainable params: 0\n",
      "_________________________________________________________________\n"
     ]
    }
   ],
   "source": [
    "model.summary()"
   ]
  },
  {
   "cell_type": "markdown",
   "metadata": {},
   "source": [
    "# Saving our model"
   ]
  },
  {
   "cell_type": "code",
   "execution_count": 16,
   "metadata": {},
   "outputs": [],
   "source": [
    "model.save(\"shapes.h5\")"
   ]
  },
  {
   "cell_type": "raw",
   "metadata": {},
   "source": [
    "TEST THE MODEL"
   ]
  },
  {
   "cell_type": "code",
   "execution_count": 17,
   "metadata": {},
   "outputs": [],
   "source": [
    "from tensorflow.keras.models import load_model\n",
    "from tensorflow.keras.preprocessing import image"
   ]
  },
  {
   "cell_type": "code",
   "execution_count": 18,
   "metadata": {},
   "outputs": [],
   "source": [
    "model = load_model(\"shapes.h5\")"
   ]
  },
  {
   "cell_type": "code",
   "execution_count": 19,
   "metadata": {},
   "outputs": [],
   "source": [
    "img1 = image.load_img(r\"C:\\Users\\DEEPTI\\AndroidStudioProjects\\Downloads\\circle.png\", target_size = (64,64))"
   ]
  },
  {
   "cell_type": "code",
   "execution_count": 20,
   "metadata": {},
   "outputs": [
    {
     "data": {
      "text/plain": [
       "PIL.Image.Image"
      ]
     },
     "execution_count": 20,
     "metadata": {},
     "output_type": "execute_result"
    }
   ],
   "source": [
    "type(img1)"
   ]
  },
  {
   "cell_type": "code",
   "execution_count": 21,
   "metadata": {},
   "outputs": [],
   "source": [
    "x = image.img_to_array(img1)"
   ]
  },
  {
   "cell_type": "code",
   "execution_count": 22,
   "metadata": {},
   "outputs": [
    {
     "data": {
      "text/plain": [
       "(64, 64, 3)"
      ]
     },
     "execution_count": 22,
     "metadata": {},
     "output_type": "execute_result"
    }
   ],
   "source": [
    "x.shape"
   ]
  },
  {
   "cell_type": "code",
   "execution_count": 23,
   "metadata": {},
   "outputs": [],
   "source": [
    "x = np.expand_dims(x, axis = 0)"
   ]
  },
  {
   "cell_type": "code",
   "execution_count": 24,
   "metadata": {},
   "outputs": [
    {
     "data": {
      "text/plain": [
       "(1, 64, 64, 3)"
      ]
     },
     "execution_count": 24,
     "metadata": {},
     "output_type": "execute_result"
    }
   ],
   "source": [
    "x.shape"
   ]
  },
  {
   "cell_type": "code",
   "execution_count": 25,
   "metadata": {},
   "outputs": [],
   "source": [
    "xpred = np.argmax(model.predict(x))"
   ]
  },
  {
   "cell_type": "code",
   "execution_count": 26,
   "metadata": {},
   "outputs": [
    {
     "data": {
      "text/plain": [
       "0"
      ]
     },
     "execution_count": 26,
     "metadata": {},
     "output_type": "execute_result"
    }
   ],
   "source": [
    "xpred"
   ]
  },
  {
   "cell_type": "code",
   "execution_count": 39,
   "metadata": {},
   "outputs": [],
   "source": [
    "img2 = image.load_img(r\"C:\\Users\\DEEPTI\\AndroidStudioProjects\\Downloads\\sqr_png.png\", target_size  = (64,64))"
   ]
  },
  {
   "cell_type": "code",
   "execution_count": 40,
   "metadata": {},
   "outputs": [],
   "source": [
    "y = image.img_to_array(img2)"
   ]
  },
  {
   "cell_type": "code",
   "execution_count": 41,
   "metadata": {},
   "outputs": [
    {
     "data": {
      "text/plain": [
       "(64, 64, 3)"
      ]
     },
     "execution_count": 41,
     "metadata": {},
     "output_type": "execute_result"
    }
   ],
   "source": [
    "y.shape"
   ]
  },
  {
   "cell_type": "code",
   "execution_count": 42,
   "metadata": {},
   "outputs": [],
   "source": [
    "y = np.expand_dims(y, axis = 0)"
   ]
  },
  {
   "cell_type": "code",
   "execution_count": 43,
   "metadata": {},
   "outputs": [
    {
     "data": {
      "text/plain": [
       "(1, 64, 64, 3)"
      ]
     },
     "execution_count": 43,
     "metadata": {},
     "output_type": "execute_result"
    }
   ],
   "source": [
    "y.shape"
   ]
  },
  {
   "cell_type": "code",
   "execution_count": 44,
   "metadata": {},
   "outputs": [],
   "source": [
    "ypred = np.argmax(model.predict(y))"
   ]
  },
  {
   "cell_type": "code",
   "execution_count": 45,
   "metadata": {},
   "outputs": [
    {
     "data": {
      "text/plain": [
       "2"
      ]
     },
     "execution_count": 45,
     "metadata": {},
     "output_type": "execute_result"
    }
   ],
   "source": [
    "ypred"
   ]
  },
  {
   "cell_type": "code",
   "execution_count": 46,
   "metadata": {},
   "outputs": [],
   "source": [
    "index = ['circle', 'square', 'triangle']"
   ]
  },
  {
   "cell_type": "code",
   "execution_count": 47,
   "metadata": {},
   "outputs": [],
   "source": [
    "prediction = index[xpred]"
   ]
  },
  {
   "cell_type": "code",
   "execution_count": 48,
   "metadata": {},
   "outputs": [
    {
     "data": {
      "text/plain": [
       "'circle'"
      ]
     },
     "execution_count": 48,
     "metadata": {},
     "output_type": "execute_result"
    }
   ],
   "source": [
    "prediction"
   ]
  },
  {
   "cell_type": "code",
   "execution_count": 49,
   "metadata": {},
   "outputs": [],
   "source": [
    "prediction = index[ypred]"
   ]
  },
  {
   "cell_type": "code",
   "execution_count": 50,
   "metadata": {},
   "outputs": [
    {
     "data": {
      "text/plain": [
       "'triangle'"
      ]
     },
     "execution_count": 50,
     "metadata": {},
     "output_type": "execute_result"
    }
   ],
   "source": [
    "prediction"
   ]
  },
  {
   "cell_type": "code",
   "execution_count": null,
   "metadata": {},
   "outputs": [],
   "source": []
  }
 ],
 "metadata": {
  "kernelspec": {
   "display_name": "Python 3",
   "language": "python",
   "name": "python3"
  },
  "language_info": {
   "codemirror_mode": {
    "name": "ipython",
    "version": 3
   },
   "file_extension": ".py",
   "mimetype": "text/x-python",
   "name": "python",
   "nbconvert_exporter": "python",
   "pygments_lexer": "ipython3",
   "version": "3.7.3"
  }
 },
 "nbformat": 4,
 "nbformat_minor": 2
}
